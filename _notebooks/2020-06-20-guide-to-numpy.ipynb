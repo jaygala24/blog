{
 "cells": [
  {
   "cell_type": "markdown",
   "metadata": {},
   "source": [
    "# Guide to NumPy For Scientific Computing\n",
    "> In this blog we will dive deeper in understanding the working of numpy along with exercises.\n",
    "\n",
    "- toc: true\n",
    "- badges: true\n",
    "- comments: true\n",
    "- categories: [python, numpy]\n",
    "- image: images/guide-to-numpy-banner.png\n"
   ]
  },
  {
   "cell_type": "markdown",
   "metadata": {},
   "source": [
    "This post assumes that you have the necessary skills to work with Python. If you are new to Python, I would highly encourage you to go through [Google’s Python Class](https://developers.google.com/edu/python) first. It’s an excellent place for beginners and also offers exercises to get your hands dirty.\n",
    "\n",
    "Python is a great general-purpose programming language, but it becomes really convenient and powerful for Machine Learning and Data Science with a few popular libraries. The libraries provide efficient code optimization and memory management, along with some additional features and functionalities.\n"
   ]
  },
  {
   "cell_type": "markdown",
   "metadata": {},
   "source": [
    "## Introduction\n",
    "\n",
    "Although all the computations can be done by Python on its own stand-alone, these libraries provide a much efficient way of doing the computations.\n",
    "\n",
    "Let’s go through an example to understand the importance of these libraries.\n",
    "\n",
    "Create a list of numbers from 1 to 5 and multiply the elements by 2:\n"
   ]
  },
  {
   "cell_type": "code",
   "execution_count": 1,
   "metadata": {},
   "outputs": [
    {
     "name": "stdout",
     "output_type": "stream",
     "text": [
      "[1, 2, 3, 4, 5]\n",
      "[1, 2, 3, 4, 5, 1, 2, 3, 4, 5]\n"
     ]
    }
   ],
   "source": [
    "l = [1, 2, 3, 4, 5]\n",
    "print(l)\n",
    "\n",
    "res = l * 2\n",
    "print(res)  # Notice something different"
   ]
  },
  {
   "cell_type": "markdown",
   "metadata": {},
   "source": [
    "Multiplying the list by x concatenates the elements of the list x times. We’ll have to write a function for multiplying the elements of the list by 2.\n"
   ]
  },
  {
   "cell_type": "code",
   "execution_count": 2,
   "metadata": {},
   "outputs": [
    {
     "name": "stdout",
     "output_type": "stream",
     "text": [
      "[2, 4, 6, 8, 10]\n"
     ]
    }
   ],
   "source": [
    "def multiply_2(arr):\n",
    "    \"\"\"\n",
    "    Multiply elements of list by 2\n",
    "    Parameters:\n",
    "    arr - list\n",
    "          Input list\n",
    "    \"\"\"\n",
    "    for i in range(len(arr)):\n",
    "        arr[i] = arr[i] * 2\n",
    "    return arr\n",
    "\n",
    "res = multiply_2(l)\n",
    "print(res)"
   ]
  },
  {
   "cell_type": "markdown",
   "metadata": {},
   "source": [
    "What’s the problem with the above computation?\n",
    "\n",
    "This seems fine if we are working on data in smaller quantities, but we work with data in larger quantities, this approach becomes really inefficient. This is where these powerful libraries come in to aid us.\n",
    "\n",
    "Don’t worry if you don’t get the syntax initially; you’ll get it as we progress through the post.\n"
   ]
  },
  {
   "cell_type": "code",
   "execution_count": 3,
   "metadata": {},
   "outputs": [],
   "source": [
    "# load the numpy library\n",
    "import numpy as np"
   ]
  },
  {
   "cell_type": "code",
   "execution_count": 4,
   "metadata": {},
   "outputs": [
    {
     "name": "stdout",
     "output_type": "stream",
     "text": [
      "[1 2 3 4 5]\n",
      "[ 2  4  6  8 10]\n"
     ]
    }
   ],
   "source": [
    "a = np.array([1, 2, 3, 4, 5])\n",
    "print(a)\n",
    "\n",
    "res = a * 2\n",
    "print(res)"
   ]
  },
  {
   "cell_type": "markdown",
   "metadata": {},
   "source": [
    "This library uses a vectorized approach, which simply means applying the operations on whole arrays instead of individual elements. This vectorized code is highly optimized and written in C.\n"
   ]
  },
  {
   "cell_type": "code",
   "execution_count": 5,
   "metadata": {},
   "outputs": [
    {
     "name": "stdout",
     "output_type": "stream",
     "text": [
      "The slowest run took 4.88 times longer than the fastest. This could mean that an intermediate result is being cached.\n",
      "77.5 µs ± 33 µs per loop (mean ± std. dev. of 7 runs, 100000 loops each)\n"
     ]
    }
   ],
   "source": [
    "%%timeit\n",
    "multiply_2(l)"
   ]
  },
  {
   "cell_type": "code",
   "execution_count": 6,
   "metadata": {},
   "outputs": [
    {
     "name": "stdout",
     "output_type": "stream",
     "text": [
      "995 ns ± 292 ns per loop (mean ± std. dev. of 7 runs, 1000000 loops each)\n"
     ]
    }
   ],
   "source": [
    "%%timeit\n",
    "a * 2"
   ]
  },
  {
   "cell_type": "markdown",
   "metadata": {},
   "source": [
    "The time of execution when using these libraries is really short compared to regular python. There are many more reasons that drive us towards the usage of these libraries. But let’s get started with the usage of these libraries:\n"
   ]
  },
  {
   "cell_type": "markdown",
   "metadata": {},
   "source": [
    "## NumPy\n",
    "\n",
    "[Numpy](http://www.numpy.org/) is the core library for doing scientific computing in Python involves working the multidimensional arrays. Many libraries are built on top of NumPy.\n"
   ]
  },
  {
   "source": [
    "### Basics\n",
    "\n",
    "A NumPy array is a grid of values, all of the same type. Nested python lists can be used to initialize the array. You can access elements with square brackets for the 1D array, but for the 2D array, it’s a little different.\n"
   ],
   "cell_type": "markdown",
   "metadata": {}
  },
  {
   "cell_type": "code",
   "execution_count": 7,
   "metadata": {},
   "outputs": [],
   "source": [
    "# load the library using np as alias\n",
    "import numpy as np"
   ]
  },
  {
   "cell_type": "code",
   "execution_count": 8,
   "metadata": {},
   "outputs": [
    {
     "name": "stdout",
     "output_type": "stream",
     "text": [
      "[1 2 3 4]\n",
      "[[1 2]\n",
      " [3 4]]\n"
     ]
    }
   ],
   "source": [
    "# Create a 1D array\n",
    "a = np.array([1, 2, 3, 4])\n",
    "print(a)\n",
    "\n",
    "# Create a 2D array\n",
    "b = np.array([[1, 2], [3, 4]])\n",
    "print(b)"
   ]
  },
  {
   "cell_type": "markdown",
   "metadata": {},
   "source": [
    "Let’s write a function which gives us more details of these NumPy arrays:\n"
   ]
  },
  {
   "cell_type": "code",
   "execution_count": 9,
   "metadata": {},
   "outputs": [],
   "source": [
    "def print_info(arr):\n",
    "    \"\"\"\n",
    "    Prints details of the numpy array\n",
    "    Parameters:\n",
    "    arr - nd array\n",
    "          Input array\n",
    "    \"\"\"\n",
    "    print('number of elements:', arr.size)\n",
    "    print('number of dimensions:', arr.ndim)\n",
    "    print('shape:', arr.shape)\n",
    "    print('data type:', arr.dtype)\n",
    "    print('strides:', arr.strides)\n",
    "    print('flags:', arr.flags)"
   ]
  },
  {
   "cell_type": "markdown",
   "metadata": {},
   "source": [
    "- `ndarray.size`: Tells us about the number of elements in a NumPy array.\n",
    "- `ndarray.ndim`: Tells us about the number of dimensions in a NumPy array.\n",
    "- `ndarray.shape`: Tells us about the size of the NumPy array along each dimension.\n",
    "- `ndarray.dtype`: Tells us about the data type of elements in a NumPy array.\n",
    "- `ndarray.strides`: Tells us about the no. of bytes need to step in each dimension to access the adjacent element. Strides will be multiples of 8 along each dimension.\n",
    "- `ndarray.flags`: Tells us about how the NumPy array is stored in memory. `C_CONTIGUOUS` tells us that elements in the memory are row-wise. `F_CONTIGUOUS` tells us that elements in the memory are column-wise.\n"
   ]
  },
  {
   "cell_type": "code",
   "execution_count": 10,
   "metadata": {},
   "outputs": [
    {
     "name": "stdout",
     "output_type": "stream",
     "text": [
      "number of elements: 4\n",
      "number of dimensions: 1\n",
      "shape: (4,)\n",
      "data type: int64\n",
      "strides: (8,)\n",
      "flags:   C_CONTIGUOUS : True\n",
      "  F_CONTIGUOUS : True\n",
      "  OWNDATA : True\n",
      "  WRITEABLE : True\n",
      "  ALIGNED : True\n",
      "  WRITEBACKIFCOPY : False\n",
      "  UPDATEIFCOPY : False\n",
      "\n"
     ]
    }
   ],
   "source": [
    "print_info(a)"
   ]
  },
  {
   "cell_type": "code",
   "execution_count": 11,
   "metadata": {},
   "outputs": [
    {
     "name": "stdout",
     "output_type": "stream",
     "text": [
      "number of elements: 4\n",
      "number of dimensions: 2\n",
      "shape: (2, 2)\n",
      "data type: int64\n",
      "strides: (16, 8)\n",
      "flags:   C_CONTIGUOUS : True\n",
      "  F_CONTIGUOUS : False\n",
      "  OWNDATA : True\n",
      "  WRITEABLE : True\n",
      "  ALIGNED : True\n",
      "  WRITEBACKIFCOPY : False\n",
      "  UPDATEIFCOPY : False\n",
      "\n"
     ]
    }
   ],
   "source": [
    "print_info(b)"
   ]
  },
  {
   "cell_type": "markdown",
   "metadata": {},
   "source": [
    "Numpy arrays are referenced based. They point to the same array in memory when you assign a defined array to another variable. So you should be careful that you don’t modify the information in place, which may be useful for later purposes.\n"
   ]
  },
  {
   "cell_type": "code",
   "execution_count": 12,
   "metadata": {},
   "outputs": [
    {
     "name": "stdout",
     "output_type": "stream",
     "text": [
      "a: [0 1 2 3 4]\n",
      "b: [5 1 2 3 4]\n"
     ]
    }
   ],
   "source": [
    "a = np.array([0, 1, 2, 3, 4])\n",
    "print('a:', a)\n",
    "\n",
    "b = a\n",
    "a[0] = 5\n",
    "print('b:', b)\n",
    "a[0] = 0"
   ]
  },
  {
   "cell_type": "markdown",
   "metadata": {},
   "source": [
    "Numpy provides a `copy` method to create a copy of the same array in memory.\n"
   ]
  },
  {
   "cell_type": "code",
   "execution_count": 13,
   "metadata": {},
   "outputs": [
    {
     "name": "stdout",
     "output_type": "stream",
     "text": [
      "a: [0 1 2 3 4]\n",
      "b: [0 1 2 3 4]\n"
     ]
    }
   ],
   "source": [
    "print('a:', a)\n",
    "\n",
    "b = a.copy()\n",
    "a[0] = 5\n",
    "print('b:', b)"
   ]
  },
  {
   "cell_type": "markdown",
   "metadata": {},
   "source": [
    "Numpy also provides many functions to create arrays. Most of the functions take shape as a parameter.\n"
   ]
  },
  {
   "cell_type": "code",
   "execution_count": 14,
   "metadata": {},
   "outputs": [
    {
     "name": "stdout",
     "output_type": "stream",
     "text": [
      "a: [[1. 1. 1.]]\n",
      "b: [[0. 0. 0.]]\n",
      "c: [[4 4 4]]\n",
      "d: [[1. 0. 0.]\n",
      " [0. 1. 0.]\n",
      " [0. 0. 1.]]\n",
      "e: [[0.22551855 0.18974127 0.87953329]]\n",
      "f: [0.54819848 0.01511915 0.5365319 ]\n",
      "g: [-0.87897997 -1.95487666  0.62275   ]\n"
     ]
    }
   ],
   "source": [
    "# Create an array of all ones\n",
    "a = np.ones((1, 3))\n",
    "print('a:', a)\n",
    "\n",
    "# Create an array of all zeros\n",
    "b = np.zeros((1, 3))\n",
    "print('b:', b)\n",
    "\n",
    "# Create a constant array\n",
    "c = np.full((1, 3), 4)          \n",
    "print('c:', c)\n",
    "\n",
    "# Create an identity matrix of 3x3\n",
    "d = np.eye(3)                   \n",
    "print('d:', d)\n",
    "\n",
    "# Create an array of random values\n",
    "e = np.random.random((1, 3))    \n",
    "print('e:', e)\n",
    "\n",
    "# Create an array of random values from uniform distribution\n",
    "f = np.random.rand(3)\n",
    "print('f:', f)\n",
    "\n",
    "# Create an array of random values from normal distribution\n",
    "g = np.random.randn(3)\n",
    "print('g:', g)"
   ]
  },
  {
   "cell_type": "markdown",
   "metadata": {},
   "source": [
    "Numpy array provides different numeric datatypes options to construct the arrays. This can be really useful when you have a large dataset, so you can set the datatype based on the data limits to be memory efficient.\n"
   ]
  },
  {
   "cell_type": "code",
   "execution_count": 15,
   "metadata": {},
   "outputs": [
    {
     "name": "stdout",
     "output_type": "stream",
     "text": [
      "Datatype of a: int64\n",
      "Datatype of b: float64\n",
      "Datatype of c: int32\n",
      "Datatype of d: float32\n"
     ]
    }
   ],
   "source": [
    "# Numpy chooses the datatype\n",
    "a = np.array([[1, 0],\n",
    "              [0, 1]])\n",
    "print('Datatype of a:', a.dtype)\n",
    "\n",
    "b = np.array([[1.0, 0],\n",
    "              [0, 1.0]])\n",
    "print('Datatype of b:', b.dtype)\n",
    "\n",
    "# Explicitly specify the datatype\n",
    "c = np.array([[1, 0],\n",
    "              [0, 1]], dtype=np.int32)\n",
    "print('Datatype of c:', c.dtype)\n",
    "\n",
    "d = np.array([[1.0, 0],\n",
    "              [0, 1.0]], dtype=np.float32)\n",
    "print('Datatype of d:', d.dtype)"
   ]
  },
  {
   "cell_type": "markdown",
   "metadata": {},
   "source": [
    "### Slicing\n",
    "\n",
    "Although slicing is similar to Python lists, there’s a slight difference for multi-dimensional arrays. We need to `specify the slice for each dimension` of the array.\n",
    "\n",
    "Let’s walk through some examples to get a better understanding:\n"
   ]
  },
  {
   "cell_type": "code",
   "execution_count": 16,
   "metadata": {},
   "outputs": [
    {
     "name": "stdout",
     "output_type": "stream",
     "text": [
      "[[ 0  1  2  3]\n",
      " [ 4  5  6  7]\n",
      " [ 8  9 10 11]\n",
      " [12 13 14 15]]\n"
     ]
    }
   ],
   "source": [
    "# Create an array of shape (4, 4)\n",
    "a = np.array([[0, 1, 2, 3], \n",
    "              [4, 5, 6, 7],\n",
    "              [8, 9, 10, 11],\n",
    "              [12, 13, 14, 15]])\n",
    "\n",
    "print(a)"
   ]
  },
  {
   "cell_type": "code",
   "execution_count": 17,
   "metadata": {},
   "outputs": [
    {
     "data": {
      "text/plain": [
       "array([[0, 1, 2, 3],\n",
       "       [4, 5, 6, 7]])"
      ]
     },
     "execution_count": 17,
     "metadata": {},
     "output_type": "execute_result"
    }
   ],
   "source": [
    "# Slice the first 2 rows from array a\n",
    "a[:2, :]    # same as a[:2]"
   ]
  },
  {
   "cell_type": "code",
   "execution_count": 18,
   "metadata": {},
   "outputs": [
    {
     "data": {
      "text/plain": [
       "array([[0, 1],\n",
       "       [4, 5]])"
      ]
     },
     "execution_count": 18,
     "metadata": {},
     "output_type": "execute_result"
    }
   ],
   "source": [
    "# Slice the first 2 rows and first 2 cols from array a\n",
    "a[:2, :2]"
   ]
  },
  {
   "cell_type": "code",
   "execution_count": 19,
   "metadata": {},
   "outputs": [
    {
     "data": {
      "text/plain": [
       "array([[ 0,  2],\n",
       "       [ 8, 10]])"
      ]
     },
     "execution_count": 19,
     "metadata": {},
     "output_type": "execute_result"
    }
   ],
   "source": [
    "# Slice the alternate rows and alternate cols from array a\n",
    "a[::2, ::2]"
   ]
  },
  {
   "cell_type": "markdown",
   "metadata": {},
   "source": [
    "Now try slicing the four center elements of the array:\n"
   ]
  },
  {
   "cell_type": "code",
   "execution_count": 20,
   "metadata": {},
   "outputs": [
    {
     "data": {
      "text/plain": [
       "array([[ 5,  6],\n",
       "       [ 9, 10]])"
      ]
     },
     "execution_count": 20,
     "metadata": {},
     "output_type": "execute_result"
    }
   ],
   "source": [
    "a[1:3, 1:3]"
   ]
  },
  {
   "cell_type": "code",
   "execution_count": 21,
   "metadata": {},
   "outputs": [
    {
     "data": {
      "text/plain": [
       "array([ 5,  6,  9, 10])"
      ]
     },
     "execution_count": 21,
     "metadata": {},
     "output_type": "execute_result"
    }
   ],
   "source": [
    "# Alternative way to extract the same elements but the dimension would be reduced to one\n",
    "a[[1, 1, 2, 2], [1, 2, 1, 2]]"
   ]
  },
  {
   "cell_type": "markdown",
   "metadata": {},
   "source": [
    "Now try accessing the elements 1, 2, 4, 7 of the array such that the dimension is not reduced:\n"
   ]
  },
  {
   "cell_type": "code",
   "execution_count": 22,
   "metadata": {},
   "outputs": [
    {
     "data": {
      "text/plain": [
       "array([[1, 2],\n",
       "       [4, 7]])"
      ]
     },
     "execution_count": 22,
     "metadata": {},
     "output_type": "execute_result"
    }
   ],
   "source": [
    "a[[[0, 0], [1, 1]], [[1, 2], [0, 3]]]"
   ]
  },
  {
   "cell_type": "code",
   "execution_count": 23,
   "metadata": {},
   "outputs": [
    {
     "data": {
      "text/plain": [
       "array([[1, 2],\n",
       "       [4, 7]])"
      ]
     },
     "execution_count": 23,
     "metadata": {},
     "output_type": "execute_result"
    }
   ],
   "source": [
    "# Alternative way for getting the above result\n",
    "a[[[0], [1]], [[1, 2], [0, 3]]]"
   ]
  },
  {
   "cell_type": "markdown",
   "metadata": {},
   "source": [
    "Note that the alternative way uses broadcasting, which will be discussed later in the post. Things will be much clearer there, so please have a bit of patience.\n"
   ]
  },
  {
   "cell_type": "markdown",
   "metadata": {},
   "source": [
    "### Functions and Aggregations\n",
    "\n",
    "Numpy comes with a lot of built-in functions, which are useful for performing various computations efficiently. One can perform arithmetic, matrix, trigonometric, exponent, logarithm operations, and many more.\n",
    "\n",
    "Let's go through a few of these operations:\n"
   ]
  },
  {
   "cell_type": "code",
   "execution_count": 24,
   "metadata": {},
   "outputs": [
    {
     "name": "stdout",
     "output_type": "stream",
     "text": [
      "a: [[0 1]\n",
      " [2 3]]\n",
      "b: [[1. 1.]\n",
      " [1. 1.]]\n"
     ]
    }
   ],
   "source": [
    "a = np.array([[0, 1],\n",
    "              [2, 3]])\n",
    "print('a:', a)\n",
    "\n",
    "b = np.ones((2, 2))\n",
    "print('b:', b)"
   ]
  },
  {
   "cell_type": "markdown",
   "metadata": {},
   "source": [
    "#### Arithmetic Operations\n"
   ]
  },
  {
   "cell_type": "code",
   "execution_count": 25,
   "metadata": {},
   "outputs": [
    {
     "name": "stdout",
     "output_type": "stream",
     "text": [
      "a + b = [[1. 2.]\n",
      " [3. 4.]]\n",
      "a - b = [[-1.  0.]\n",
      " [ 1.  2.]]\n",
      "a * b = [[0. 1.]\n",
      " [2. 3.]]\n",
      "a / b = [[0. 1.]\n",
      " [2. 3.]]\n",
      "a % b = [[0. 0.]\n",
      " [0. 0.]]\n"
     ]
    }
   ],
   "source": [
    "# Elementwise sum\n",
    "print('a + b =', np.add(a, b))                 # same as print(a + b)\n",
    "\n",
    "# Elementwise difference\n",
    "print('a - b =', np.subtract(a, b))     # same as print(a - b)\n",
    "\n",
    "# Elementwise product\n",
    "print('a * b =', np.multiply(a, b))        # same as print(a * b)\n",
    "\n",
    "# Elementwise division\n",
    "print('a / b =', np.divide(a, b))         # same as print(a / b)\n",
    "\n",
    "# Elementwise modulo\n",
    "print('a % b =', np.mod(a, b))              # same as print(a % b)"
   ]
  },
  {
   "cell_type": "code",
   "execution_count": 26,
   "metadata": {},
   "outputs": [
    {
     "name": "stdout",
     "output_type": "stream",
     "text": [
      "|a| = [[0 1 2]\n",
      " [3 4 5]\n",
      " [6 7 8]]\n",
      "a ^ 2 = [[ 0  1  4]\n",
      " [ 9 16 25]\n",
      " [36 49 64]]\n",
      "a ^ 0.5 = [[0.         1.         1.41421356]\n",
      " [1.73205081 2.         2.23606798]\n",
      " [2.44948974 2.64575131 2.82842712]]\n"
     ]
    }
   ],
   "source": [
    "# Create an array of shape (3, 3)\n",
    "a = np.array([[0, -1, 2],\n",
    "              [-3, 4, -5],\n",
    "              [6, -7, 8]])\n",
    "\n",
    "# Absolute values\n",
    "print('|a| =', np.abs(a))            # same as print(np.absolute(a))\n",
    "\n",
    "# Square values\n",
    "print('a ^ 2 =', np.square(a))      # same as print(a ** 2)\n",
    "\n",
    "# Square root values\n",
    "print('a ^ 0.5 =', np.sqrt(np.abs(a)))  # same as print(np.abs(a) ** 0.5)"
   ]
  },
  {
   "cell_type": "markdown",
   "metadata": {},
   "source": [
    "#### Matrix Operations\n"
   ]
  },
  {
   "cell_type": "code",
   "execution_count": 27,
   "metadata": {},
   "outputs": [
    {
     "name": "stdout",
     "output_type": "stream",
     "text": [
      "b x b = 20\n",
      "a x b = [ 4 16]\n",
      "a x a = [[ 2  3]\n",
      " [ 6 11]]\n"
     ]
    }
   ],
   "source": [
    "# Create a matrix of shape (2, 2)\n",
    "a = np.array([[0, 1], \n",
    "              [2, 3]])\n",
    "\n",
    "# Create a matrix of shape (2,)\n",
    "b = np.array([2, 4])\n",
    "\n",
    "# Dot product of vector / vector\n",
    "print('b x b =', np.dot(b, b))     # same as print(b.dot(b))\n",
    "\n",
    "# Product of matrix / vector\n",
    "print('a x b =', np.dot(a, b))     # same as print(a.dot(b))\n",
    "\n",
    "# Product of matrix / matrix\n",
    "print('a x a =', np.dot(a, a))     # same as print(a.dot(a))"
   ]
  },
  {
   "cell_type": "markdown",
   "metadata": {},
   "source": [
    "#### Trigonometric Operations\n"
   ]
  },
  {
   "cell_type": "code",
   "execution_count": 28,
   "metadata": {},
   "outputs": [
    {
     "name": "stdout",
     "output_type": "stream",
     "text": [
      "theta = [0.         1.57079633 3.14159265]\n",
      "sin(theta) = [0.0000000e+00 1.0000000e+00 1.2246468e-16]\n",
      "cos(theta) = [ 1.000000e+00  6.123234e-17 -1.000000e+00]\n",
      "tan(theta) = [ 0.00000000e+00  1.63312394e+16 -1.22464680e-16]\n"
     ]
    }
   ],
   "source": [
    "# Create array of equal inerval values from 0 to pi radians\n",
    "theta = np.linspace(0, np.pi, 3)\n",
    "\n",
    "print('theta =', theta)\n",
    "print('sin(theta) =', np.sin(theta))\n",
    "print('cos(theta) =', np.cos(theta))\n",
    "print('tan(theta) =', np.tan(theta))"
   ]
  },
  {
   "cell_type": "code",
   "execution_count": 29,
   "metadata": {},
   "outputs": [
    {
     "name": "stdout",
     "output_type": "stream",
     "text": [
      "x = [-1  0  1]\n",
      "arcsin(x) = [-1.57079633  0.          1.57079633]\n",
      "arccos(x) = [3.14159265 1.57079633 0.        ]\n",
      "arctan(x) = [-0.78539816  0.          0.78539816]\n"
     ]
    }
   ],
   "source": [
    "# Create an array of shape (3, )\n",
    "x = np.array([-1, 0, 1])\n",
    "\n",
    "print(\"x =\", x)\n",
    "print(\"arcsin(x) =\", np.arcsin(x))\n",
    "print(\"arccos(x) =\", np.arccos(x))\n",
    "print(\"arctan(x) =\", np.arctan(x))"
   ]
  },
  {
   "cell_type": "markdown",
   "metadata": {},
   "source": [
    "#### Exponentiation Operations\n"
   ]
  },
  {
   "cell_type": "code",
   "execution_count": 30,
   "metadata": {},
   "outputs": [
    {
     "name": "stdout",
     "output_type": "stream",
     "text": [
      "a = [1 2 3 4]\n",
      "e ^ a = [ 2.71828183  7.3890561  20.08553692 54.59815003]\n",
      "e ^ a - 1 = [ 1.71828183  6.3890561  19.08553692 53.59815003]\n",
      "2 ^ a = [ 2.  4.  8. 16.]\n",
      "10 ^ a = [   10   100  1000 10000]\n"
     ]
    }
   ],
   "source": [
    "# Create an array of shape (4,)\n",
    "a = np.arange(1, 5)\n",
    "\n",
    "print('a =', a)\n",
    "print('e ^ a =', np.exp(a))\n",
    "print('e ^ a - 1 =', np.expm1(a))\n",
    "print('2 ^ a =', np.exp2(a))\n",
    "print('10 ^ a =', np.power(10, a))"
   ]
  },
  {
   "cell_type": "markdown",
   "metadata": {},
   "source": [
    "#### Logarithmic Operations\n"
   ]
  },
  {
   "cell_type": "code",
   "execution_count": 31,
   "metadata": {},
   "outputs": [
    {
     "name": "stdout",
     "output_type": "stream",
     "text": [
      "a = [1 2 3 4]\n",
      "ln(a) = [0.         0.69314718 1.09861229 1.38629436]\n",
      "ln(a + 1) = [0.69314718 1.09861229 1.38629436 1.60943791]\n",
      "log2(a) = [0.        1.        1.5849625 2.       ]\n",
      "log10(a) = [0.         0.30103    0.47712125 0.60205999]\n"
     ]
    }
   ],
   "source": [
    "# Create an array of shape (4,)\n",
    "a = np.arange(1, 5)\n",
    "\n",
    "print('a =', a)\n",
    "print('ln(a) =', np.log(a))\n",
    "print('ln(a + 1) =', np.log1p(a))\n",
    "print('log2(a) =', np.log2(a))\n",
    "print('log10(a) =', np.log10(a))"
   ]
  },
  {
   "cell_type": "markdown",
   "metadata": {},
   "source": [
    "#### Aggregates\n"
   ]
  },
  {
   "cell_type": "code",
   "execution_count": 32,
   "metadata": {},
   "outputs": [
    {
     "name": "stdout",
     "output_type": "stream",
     "text": [
      "[1 2 3 4]\n"
     ]
    }
   ],
   "source": [
    "# Create an array of shape (4,)\n",
    "a = np.arange(1, 5)\n",
    "print(a)"
   ]
  },
  {
   "cell_type": "markdown",
   "metadata": {},
   "source": [
    "Calling the `reduce` method on arithmetic functions like `add` returns the sum of all elements in the array. Similarly, calling the `accumulate` method on arithmetic functions like `add` returns the array of intermediate results:\n"
   ]
  },
  {
   "cell_type": "code",
   "execution_count": 33,
   "metadata": {},
   "outputs": [
    {
     "name": "stdout",
     "output_type": "stream",
     "text": [
      "10\n",
      "24\n",
      "[ 1  3  6 10]\n",
      "[ 1  2  6 24]\n"
     ]
    }
   ],
   "source": [
    "# Sum of all elements of array\n",
    "print(np.add.reduce(a))\n",
    "\n",
    "# Product of all elements of array\n",
    "print(np.multiply.reduce(a))\n",
    "\n",
    "# Intermediate result of sum\n",
    "print(np.add.accumulate(a))\n",
    "\n",
    "# Intermediate result of product\n",
    "print(np.multiply.accumulate(a))"
   ]
  },
  {
   "cell_type": "code",
   "execution_count": 34,
   "metadata": {},
   "outputs": [
    {
     "name": "stdout",
     "output_type": "stream",
     "text": [
      "[[0.68347343 0.56920798]\n",
      " [0.20602274 0.92199748]]\n"
     ]
    }
   ],
   "source": [
    "# Create an array of shape (2, 2)\n",
    "a = np.random.rand(2, 2)\n",
    "print(a)"
   ]
  },
  {
   "cell_type": "code",
   "execution_count": 35,
   "metadata": {},
   "outputs": [
    {
     "name": "stdout",
     "output_type": "stream",
     "text": [
      "2.380701625644927\n",
      "0.2060227376885182\n",
      "0.9219974808291727\n"
     ]
    }
   ],
   "source": [
    "# Sum of all elements of array\n",
    "print(np.sum(a))    # same as print(a.sum())\n",
    "\n",
    "# Minimum value of array\n",
    "print(np.min(a))    # same as print(a.min())\n",
    "\n",
    "# Maximum value of array\n",
    "print(np.max(a))    # same as print(a.max())"
   ]
  },
  {
   "cell_type": "markdown",
   "metadata": {},
   "source": [
    "We can find the `sum`, `min`, and `max` row-wise or col-wise by specifying the `axis` argument.\n",
    "\n",
    "- `axis = 0` specifies we are reducing rows that means we are finding row-wise\n",
    "- `axis = 1` specifies we are reducing cols that means we are finding col-wise\n"
   ]
  },
  {
   "cell_type": "code",
   "execution_count": 36,
   "metadata": {},
   "outputs": [
    {
     "name": "stdout",
     "output_type": "stream",
     "text": [
      "[0.88949617 1.49120546]\n",
      "[0.20602274 0.56920798]\n",
      "[0.68347343 0.92199748]\n"
     ]
    }
   ],
   "source": [
    "# Sum of all elements of array row wise\n",
    "print(np.sum(a, axis=0))    # same as print(a.sum(axis=0))\n",
    "\n",
    "# Min value of array row wise\n",
    "print(np.min(a, axis=0))    # same as print(a.min(axis=0))\n",
    "\n",
    "# Max value of array row wise\n",
    "print(np.max(a, axis=0))    # same as print(a.max(axis=0))"
   ]
  },
  {
   "cell_type": "code",
   "execution_count": 37,
   "metadata": {},
   "outputs": [
    {
     "name": "stdout",
     "output_type": "stream",
     "text": [
      "[1.25268141 1.12802022]\n",
      "[0.56920798 0.20602274]\n",
      "[0.68347343 0.92199748]\n"
     ]
    }
   ],
   "source": [
    "# Sum of all elements of array col wise\n",
    "print(np.sum(a, axis=1))    # same as print(a.sum(axis=1))\n",
    "\n",
    "# Min value of array col wise\n",
    "print(np.min(a, axis=1))    # same as print(a.min(axis=1))\n",
    "\n",
    "# Max value of array col wise\n",
    "print(np.max(a, axis=1))    # same as print(a.max(axis=1))"
   ]
  },
  {
   "cell_type": "code",
   "execution_count": 38,
   "metadata": {},
   "outputs": [
    {
     "name": "stdout",
     "output_type": "stream",
     "text": [
      "2\n",
      "3\n"
     ]
    }
   ],
   "source": [
    "# Find the index of max and min value\n",
    "print(np.argmin(a))\n",
    "print(np.argmax(a))"
   ]
  },
  {
   "cell_type": "code",
   "execution_count": 39,
   "metadata": {},
   "outputs": [
    {
     "name": "stdout",
     "output_type": "stream",
     "text": [
      "[1 0]\n",
      "[0 1]\n"
     ]
    }
   ],
   "source": [
    "# Find the index of max and min value row wise\n",
    "print(np.argmin(a, axis=0))\n",
    "print(np.argmax(a, axis=0))"
   ]
  },
  {
   "cell_type": "code",
   "execution_count": 40,
   "metadata": {},
   "outputs": [
    {
     "name": "stdout",
     "output_type": "stream",
     "text": [
      "[1 0]\n",
      "[0 1]\n"
     ]
    }
   ],
   "source": [
    "# Find the index of max and min value col wise\n",
    "print(np.argmin(a, axis=1))\n",
    "print(np.argmax(a, axis=1))"
   ]
  },
  {
   "cell_type": "markdown",
   "metadata": {},
   "source": [
    "There are various other functions such as `np.mean`, `np.std`, `np.median`, `np.percentile`, `np.any`, `np.all` which you can refer in the documentation.\n"
   ]
  },
  {
   "cell_type": "markdown",
   "metadata": {},
   "source": [
    "### Broadcasting\n",
    "\n",
    "Broadcasting is a way that allows us to work with NumPy arrays of different shapes when performing arithmetic operations.\n",
    "\n",
    "**Rules of Broadcasting:**\n",
    "\n",
    "- Array with fewer dimensions is padded with ones on the leading side\n",
    "- If the shape of two arrays do not match in any dimension, the array with a shape equal to 1 is stretched to match the other shape\n",
    "- If in any dimension the sizes disagree and neither equal to 1, then the array is not compatible, thus leading to an error.\n"
   ]
  },
  {
   "cell_type": "code",
   "execution_count": 41,
   "metadata": {},
   "outputs": [
    {
     "name": "stdout",
     "output_type": "stream",
     "text": [
      "[0 1 2 3]\n"
     ]
    }
   ],
   "source": [
    "# Create an array of shape (4,)\n",
    "a = np.arange(0, 4)\n",
    "print(a)"
   ]
  },
  {
   "cell_type": "code",
   "execution_count": 42,
   "metadata": {},
   "outputs": [
    {
     "data": {
      "text/plain": [
       "array([4, 5, 6, 7])"
      ]
     },
     "execution_count": 42,
     "metadata": {},
     "output_type": "execute_result"
    }
   ],
   "source": [
    "a + 4"
   ]
  },
  {
   "cell_type": "markdown",
   "metadata": {},
   "source": [
    "In the above example, there is a duplication of the scalar value 4 into the array of shape same as an array a and performs addition, which can be demonstrated in the below figure:\n",
    "\n",
    "![broadcasting scalar](data:image/jpeg;base64,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)\n"
   ]
  },
  {
   "cell_type": "code",
   "execution_count": 43,
   "metadata": {},
   "outputs": [
    {
     "name": "stdout",
     "output_type": "stream",
     "text": [
      "a: [0 1 2 3]\n",
      "b: [[0]\n",
      " [1]\n",
      " [2]\n",
      " [3]]\n"
     ]
    }
   ],
   "source": [
    "# Create an array of shape (4,)\n",
    "a = np.arange(0, 4)\n",
    "print('a:', a)\n",
    "\n",
    "# Create an array of shape (4, 1)\n",
    "b = np.arange(0, 4).reshape(4, 1)\n",
    "print('b:', b)"
   ]
  },
  {
   "cell_type": "code",
   "execution_count": 44,
   "metadata": {},
   "outputs": [
    {
     "data": {
      "text/plain": [
       "array([[0, 1, 2, 3],\n",
       "       [1, 2, 3, 4],\n",
       "       [2, 3, 4, 5],\n",
       "       [3, 4, 5, 6]])"
      ]
     },
     "execution_count": 44,
     "metadata": {},
     "output_type": "execute_result"
    }
   ],
   "source": [
    "a + b"
   ]
  },
  {
   "cell_type": "markdown",
   "metadata": {},
   "source": [
    "In the above example, a and b both stretches row-wise and col-wise respectively, which can be demonstrated in the below figure:\n",
    "\n",
    "![broadcasting both dimensions](data:image/jpeg;base64,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)\n"
   ]
  },
  {
   "cell_type": "code",
   "execution_count": 45,
   "metadata": {},
   "outputs": [],
   "source": [
    "# Create an array of shape (3, 2)\n",
    "a = np.arange(1, 7).reshape(3, 2)\n",
    "\n",
    "# Create an array of shape (2,)\n",
    "b = np.ones((2,))"
   ]
  },
  {
   "cell_type": "code",
   "execution_count": 46,
   "metadata": {},
   "outputs": [
    {
     "data": {
      "text/plain": [
       "array([[2., 3.],\n",
       "       [4., 5.],\n",
       "       [6., 7.]])"
      ]
     },
     "execution_count": 46,
     "metadata": {},
     "output_type": "execute_result"
    }
   ],
   "source": [
    "a + b"
   ]
  },
  {
   "cell_type": "markdown",
   "metadata": {},
   "source": [
    "In the above example, broadcasting takes for the b, which is demonstrated in the below figure:\n",
    "\n",
    "![broadcasting one dimension](data:image/jpeg;base64,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)\n"
   ]
  },
  {
   "cell_type": "code",
   "execution_count": 47,
   "metadata": {},
   "outputs": [],
   "source": [
    "# Create an array of shape (3, 2)\n",
    "a = np.arange(1, 7).reshape(3, 2)\n",
    "\n",
    "# Create an array of shape (3,)\n",
    "b = np.ones((3,))"
   ]
  },
  {
   "cell_type": "code",
   "execution_count": 48,
   "metadata": {},
   "outputs": [
    {
     "ename": "ValueError",
     "evalue": "operands could not be broadcast together with shapes (3,2) (3,) ",
     "output_type": "error",
     "traceback": [
      "\u001b[0;31m---------------------------------------------------------------------------\u001b[0m",
      "\u001b[0;31mValueError\u001b[0m                                Traceback (most recent call last)",
      "\u001b[0;32m<ipython-input-48-bd58363a63fc>\u001b[0m in \u001b[0;36m<module>\u001b[0;34m\u001b[0m\n\u001b[0;32m----> 1\u001b[0;31m \u001b[0ma\u001b[0m \u001b[0;34m+\u001b[0m \u001b[0mb\u001b[0m\u001b[0;34m\u001b[0m\u001b[0;34m\u001b[0m\u001b[0m\n\u001b[0m",
      "\u001b[0;31mValueError\u001b[0m: operands could not be broadcast together with shapes (3,2) (3,) "
     ]
    }
   ],
   "source": [
    "a + b"
   ]
  },
  {
   "cell_type": "markdown",
   "metadata": {},
   "source": [
    "In the above example, broadcasting does not take place as the shapes are incompatible, which can be demonstrated in the below figure:\n",
    "\n",
    "![broadcasting error](data:image/jpeg;base64,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)\n"
   ]
  },
  {
   "cell_type": "markdown",
   "metadata": {},
   "source": [
    "### Fancy Indexing\n",
    "\n",
    "Fancy indexing is simply accessing multiple elements of an array at once through the use of an array of indices. It's slicing in simple ways.\n",
    "\n",
    "Let's walk through a few examples to understand the above:\n"
   ]
  },
  {
   "cell_type": "code",
   "execution_count": 49,
   "metadata": {},
   "outputs": [
    {
     "name": "stdout",
     "output_type": "stream",
     "text": [
      "[[4 0 1]\n",
      " [5 2 8]\n",
      " [9 8 3]]\n"
     ]
    }
   ],
   "source": [
    "# Create an array of shape (3, 3)\n",
    "a = np.random.randint(10, size=(3, 3))\n",
    "print(a)"
   ]
  },
  {
   "cell_type": "code",
   "execution_count": 50,
   "metadata": {},
   "outputs": [
    {
     "data": {
      "text/plain": [
       "array([0, 5, 3])"
      ]
     },
     "execution_count": 50,
     "metadata": {},
     "output_type": "execute_result"
    }
   ],
   "source": [
    "# Access the element 2, 5, 4\n",
    "row = np.array([0, 1, 2])\n",
    "col = np.array([1, 0, 2])\n",
    "a[row, col]"
   ]
  },
  {
   "cell_type": "code",
   "execution_count": 51,
   "metadata": {},
   "outputs": [
    {
     "data": {
      "text/plain": [
       "array([[2, 5, 8],\n",
       "       [8, 9, 3]])"
      ]
     },
     "execution_count": 51,
     "metadata": {},
     "output_type": "execute_result"
    }
   ],
   "source": [
    "# Access elements in random order from last 2 rows\n",
    "a[1:, col]"
   ]
  },
  {
   "cell_type": "markdown",
   "metadata": {},
   "source": [
    "In the above example, broadcasting is used for the row indices.\n"
   ]
  },
  {
   "cell_type": "code",
   "execution_count": 52,
   "metadata": {},
   "outputs": [
    {
     "name": "stdout",
     "output_type": "stream",
     "text": [
      "[20 21 29 30 28 12 10  3 38  1]\n"
     ]
    }
   ],
   "source": [
    "a = np.random.randint(50, size=10)\n",
    "print(a)"
   ]
  },
  {
   "cell_type": "code",
   "execution_count": 53,
   "metadata": {},
   "outputs": [
    {
     "name": "stdout",
     "output_type": "stream",
     "text": [
      "[False False  True  True  True False False False  True False]\n"
     ]
    }
   ],
   "source": [
    "mask = a > 25\n",
    "print(mask)"
   ]
  },
  {
   "cell_type": "markdown",
   "metadata": {},
   "source": [
    "Mask means boolean indexing where the `True` value indicates that the element at a particular index satisfies the conditions. This mask array helps us filtering the elements, and we can access the elements from the array using the mask as an array of indices.\n"
   ]
  },
  {
   "cell_type": "code",
   "execution_count": 54,
   "metadata": {},
   "outputs": [
    {
     "name": "stdout",
     "output_type": "stream",
     "text": [
      "[29 30 28 38]\n"
     ]
    }
   ],
   "source": [
    "# Array of elements greater than 25\n",
    "print(a[mask])"
   ]
  },
  {
   "cell_type": "markdown",
   "metadata": {},
   "source": [
    "This masking can also be useful for modifying the values of arrays that do not satisfy the constraints. Let's see an example:\n"
   ]
  },
  {
   "cell_type": "code",
   "execution_count": 55,
   "metadata": {},
   "outputs": [
    {
     "name": "stdout",
     "output_type": "stream",
     "text": [
      "[ 6  4  9  9 -7  3 -8  9  5 -3]\n"
     ]
    }
   ],
   "source": [
    "# Create an array of shape (10,)\n",
    "a = np.random.randint(-10, 10, size=(10,))\n",
    "print(a)"
   ]
  },
  {
   "cell_type": "code",
   "execution_count": 56,
   "metadata": {},
   "outputs": [
    {
     "name": "stdout",
     "output_type": "stream",
     "text": [
      "[-7 -8 -3]\n"
     ]
    }
   ],
   "source": [
    "# Elements with the negative value\n",
    "neg_mask = a < 0\n",
    "print(a[neg_mask])"
   ]
  },
  {
   "cell_type": "code",
   "execution_count": 57,
   "metadata": {},
   "outputs": [
    {
     "name": "stdout",
     "output_type": "stream",
     "text": [
      "[6 4 9 9 0 3 0 9 5 0]\n"
     ]
    }
   ],
   "source": [
    "# Modifying the array so all elements are greater than or equal to zero\n",
    "a[neg_mask] = 0\n",
    "print(a)"
   ]
  },
  {
   "cell_type": "markdown",
   "metadata": {},
   "source": [
    "### Strides\n",
    "\n",
    "Computer Memory is a single tape where we need to travel sequentially in order to access the data. Strides specify the number of bytes we need to travel in the memory to access the adjacent element along each dimension.  Numpy arrays are stored in a contiguous block of memory, so strides become really handy. Strides are multiples of 8 and by default row-major.\n"
   ]
  },
  {
   "cell_type": "code",
   "execution_count": 58,
   "metadata": {},
   "outputs": [
    {
     "name": "stdout",
     "output_type": "stream",
     "text": [
      "[[0.07495098 0.03693228]\n",
      " [0.48777201 0.60112812]\n",
      " [0.47782039 0.18343593]]\n"
     ]
    }
   ],
   "source": [
    "# Create an array of shape (3, 2)\n",
    "a = np.random.random((3, 2))\n",
    "print(a)"
   ]
  },
  {
   "cell_type": "code",
   "execution_count": 59,
   "metadata": {},
   "outputs": [
    {
     "name": "stdout",
     "output_type": "stream",
     "text": [
      "number of elements: 6\n",
      "number of dimensions: 2\n",
      "shape: (3, 2)\n",
      "data type: float64\n",
      "strides: (16, 8)\n",
      "flags:   C_CONTIGUOUS : True\n",
      "  F_CONTIGUOUS : False\n",
      "  OWNDATA : True\n",
      "  WRITEABLE : True\n",
      "  ALIGNED : True\n",
      "  WRITEBACKIFCOPY : False\n",
      "  UPDATEIFCOPY : False\n",
      "\n"
     ]
    }
   ],
   "source": [
    "print_info(a)"
   ]
  },
  {
   "cell_type": "markdown",
   "metadata": {},
   "source": [
    "`strides: (16, 8)` indicates that we need to travel 16 bytes to get the adjacent element row-wise and 8 bytes to get the adjacent element col-wise.\n"
   ]
  },
  {
   "cell_type": "code",
   "execution_count": 60,
   "metadata": {},
   "outputs": [
    {
     "name": "stdout",
     "output_type": "stream",
     "text": [
      "[[0.07495098 0.48777201 0.47782039]\n",
      " [0.03693228 0.60112812 0.18343593]]\n"
     ]
    }
   ],
   "source": [
    "# Performing the transpose of array a\n",
    "a_T = a.T\n",
    "print(a_T)"
   ]
  },
  {
   "cell_type": "code",
   "execution_count": 61,
   "metadata": {},
   "outputs": [
    {
     "name": "stdout",
     "output_type": "stream",
     "text": [
      "number of elements: 6\n",
      "number of dimensions: 2\n",
      "shape: (2, 3)\n",
      "data type: float64\n",
      "strides: (8, 16)\n",
      "flags:   C_CONTIGUOUS : False\n",
      "  F_CONTIGUOUS : True\n",
      "  OWNDATA : False\n",
      "  WRITEABLE : True\n",
      "  ALIGNED : True\n",
      "  WRITEBACKIFCOPY : False\n",
      "  UPDATEIFCOPY : False\n",
      "\n"
     ]
    }
   ],
   "source": [
    "print_info(a_T)"
   ]
  },
  {
   "cell_type": "markdown",
   "metadata": {},
   "source": [
    "If you notice the strides have been reversed from `(16, 8)` to `(8, 16)`, which tells us that this is just the view of array `a’. This is the reason why NumPy is memory efficient as it points to the memory instead of creating another array as compared to python.\n",
    "\n",
    "Note that the `F_CONTIGUOUS: True` which means the array `a_T` is column-major.\n",
    "\n",
    "`np.reshape` is also based on the idea of strides, which returns the view of the same array with modified strides:\n"
   ]
  },
  {
   "cell_type": "code",
   "execution_count": 62,
   "metadata": {},
   "outputs": [
    {
     "name": "stdout",
     "output_type": "stream",
     "text": [
      "[0.07495098 0.03693228 0.48777201 0.60112812 0.47782039 0.18343593]\n"
     ]
    }
   ],
   "source": [
    "b = a.reshape(6,)\n",
    "print(b)"
   ]
  },
  {
   "cell_type": "code",
   "execution_count": 63,
   "metadata": {},
   "outputs": [
    {
     "name": "stdout",
     "output_type": "stream",
     "text": [
      "number of elements: 6\n",
      "number of dimensions: 1\n",
      "shape: (6,)\n",
      "data type: float64\n",
      "strides: (8,)\n",
      "flags:   C_CONTIGUOUS : True\n",
      "  F_CONTIGUOUS : True\n",
      "  OWNDATA : False\n",
      "  WRITEABLE : True\n",
      "  ALIGNED : True\n",
      "  WRITEBACKIFCOPY : False\n",
      "  UPDATEIFCOPY : False\n",
      "\n"
     ]
    }
   ],
   "source": [
    "print_info(b)"
   ]
  },
  {
   "cell_type": "markdown",
   "metadata": {},
   "source": [
    "Broadcasting also uses the concept of `strides` when performing arithmetic operations. Let’s see an example:\n"
   ]
  },
  {
   "cell_type": "code",
   "execution_count": 64,
   "metadata": {},
   "outputs": [
    {
     "name": "stdout",
     "output_type": "stream",
     "text": [
      "[[0.76096701 0.23538774]\n",
      " [0.31361445 0.58805459]\n",
      " [0.91557476 0.24585326]]\n",
      "[9 0 8 2]\n"
     ]
    }
   ],
   "source": [
    "# Create an array of shape (3, 2)\n",
    "a = np.random.random((3, 2))\n",
    "print(a)\n",
    "\n",
    "# Create an array of shape (10,)\n",
    "b = np.random.randint(10, size=4)\n",
    "print(b)"
   ]
  },
  {
   "cell_type": "code",
   "execution_count": 65,
   "metadata": {},
   "outputs": [
    {
     "ename": "ValueError",
     "evalue": "operands could not be broadcast together with shapes (3,2) (4,) ",
     "output_type": "error",
     "traceback": [
      "\u001b[0;31m---------------------------------------------------------------------------\u001b[0m",
      "\u001b[0;31mValueError\u001b[0m                                Traceback (most recent call last)",
      "\u001b[0;32m<ipython-input-65-1674f6151070>\u001b[0m in \u001b[0;36m<module>\u001b[0;34m\u001b[0m\n\u001b[0;32m----> 1\u001b[0;31m \u001b[0mc\u001b[0m \u001b[0;34m=\u001b[0m \u001b[0ma\u001b[0m \u001b[0;34m+\u001b[0m \u001b[0mb\u001b[0m\u001b[0;34m\u001b[0m\u001b[0;34m\u001b[0m\u001b[0m\n\u001b[0m",
      "\u001b[0;31mValueError\u001b[0m: operands could not be broadcast together with shapes (3,2) (4,) "
     ]
    }
   ],
   "source": [
    "c = a + b"
   ]
  },
  {
   "cell_type": "markdown",
   "metadata": {},
   "source": [
    "Broadcasting, by default, gives us an error as the above operation does not satisfy broadcasting rules. Let’s apply some modifications, so it satisfies the broadcasting rules, and we get the array of shape `(4, 3, 2)`:\n"
   ]
  },
  {
   "cell_type": "code",
   "execution_count": 66,
   "metadata": {},
   "outputs": [
    {
     "name": "stdout",
     "output_type": "stream",
     "text": [
      "number of elements: 24\n",
      "number of dimensions: 3\n",
      "shape: (4, 3, 2)\n",
      "data type: float64\n",
      "strides: (48, 16, 8)\n",
      "flags:   C_CONTIGUOUS : True\n",
      "  F_CONTIGUOUS : False\n",
      "  OWNDATA : True\n",
      "  WRITEABLE : True\n",
      "  ALIGNED : True\n",
      "  WRITEBACKIFCOPY : False\n",
      "  UPDATEIFCOPY : False\n",
      "\n"
     ]
    }
   ],
   "source": [
    "# Increase the dimension of b\n",
    "c = a + b[:, np.newaxis, np.newaxis]\n",
    "print_info(c)"
   ]
  },
  {
   "cell_type": "markdown",
   "metadata": {},
   "source": [
    "`np.broadcast_arrays` returns the broadcasted arrays of the same shape that NumPy adds together in the above code block.\n"
   ]
  },
  {
   "cell_type": "code",
   "execution_count": 67,
   "metadata": {},
   "outputs": [],
   "source": [
    "a_broadcast, b_broadcast = np.broadcast_arrays(a, b[:, np.newaxis, np.newaxis])"
   ]
  },
  {
   "cell_type": "code",
   "execution_count": 68,
   "metadata": {},
   "outputs": [
    {
     "name": "stdout",
     "output_type": "stream",
     "text": [
      "number of elements: 24\n",
      "number of dimensions: 3\n",
      "shape: (4, 3, 2)\n",
      "data type: float64\n",
      "strides: (0, 16, 8)\n",
      "flags:   C_CONTIGUOUS : False\n",
      "  F_CONTIGUOUS : False\n",
      "  OWNDATA : False\n",
      "  WRITEABLE : True  (with WARN_ON_WRITE=True)\n",
      "  ALIGNED : True\n",
      "  WRITEBACKIFCOPY : False\n",
      "  UPDATEIFCOPY : False\n",
      "\n"
     ]
    }
   ],
   "source": [
    "print_info(a_broadcast)"
   ]
  },
  {
   "cell_type": "code",
   "execution_count": 69,
   "metadata": {},
   "outputs": [
    {
     "name": "stdout",
     "output_type": "stream",
     "text": [
      "[[[0.76096701 0.23538774]\n",
      "  [0.31361445 0.58805459]\n",
      "  [0.91557476 0.24585326]]\n",
      "\n",
      " [[0.76096701 0.23538774]\n",
      "  [0.31361445 0.58805459]\n",
      "  [0.91557476 0.24585326]]\n",
      "\n",
      " [[0.76096701 0.23538774]\n",
      "  [0.31361445 0.58805459]\n",
      "  [0.91557476 0.24585326]]\n",
      "\n",
      " [[0.76096701 0.23538774]\n",
      "  [0.31361445 0.58805459]\n",
      "  [0.91557476 0.24585326]]]\n"
     ]
    }
   ],
   "source": [
    "print(a_broadcast)"
   ]
  },
  {
   "cell_type": "markdown",
   "metadata": {},
   "source": [
    "`strides: (0, 16, 8)` indicates that the virtual view of the array a in which the view of the array appears as many times as the leading shape. In the above case, it is 4 times.\n"
   ]
  },
  {
   "cell_type": "code",
   "execution_count": 70,
   "metadata": {},
   "outputs": [
    {
     "name": "stdout",
     "output_type": "stream",
     "text": [
      "number of elements: 24\n",
      "number of dimensions: 3\n",
      "shape: (4, 3, 2)\n",
      "data type: int64\n",
      "strides: (8, 0, 0)\n",
      "flags:   C_CONTIGUOUS : False\n",
      "  F_CONTIGUOUS : False\n",
      "  OWNDATA : False\n",
      "  WRITEABLE : True  (with WARN_ON_WRITE=True)\n",
      "  ALIGNED : True\n",
      "  WRITEBACKIFCOPY : False\n",
      "  UPDATEIFCOPY : False\n",
      "\n"
     ]
    }
   ],
   "source": [
    "print_info(b_broadcast)"
   ]
  },
  {
   "cell_type": "code",
   "execution_count": 71,
   "metadata": {},
   "outputs": [
    {
     "name": "stdout",
     "output_type": "stream",
     "text": [
      "[[[9 9]\n",
      "  [9 9]\n",
      "  [9 9]]\n",
      "\n",
      " [[0 0]\n",
      "  [0 0]\n",
      "  [0 0]]\n",
      "\n",
      " [[8 8]\n",
      "  [8 8]\n",
      "  [8 8]]\n",
      "\n",
      " [[2 2]\n",
      "  [2 2]\n",
      "  [2 2]]]\n"
     ]
    }
   ],
   "source": [
    "print(b_broadcast)"
   ]
  },
  {
   "cell_type": "markdown",
   "metadata": {},
   "source": [
    "`strides: (8, 0, 0)` indicates that the virtual array consists of every element of array b, which appears as a 2D array of shape (3, 2)\n",
    "\n",
    "How can we manipulate the strides and shape of an array to produce a virtual array that is much bigger but using the same memory?\n"
   ]
  },
  {
   "cell_type": "code",
   "execution_count": 72,
   "metadata": {},
   "outputs": [],
   "source": [
    "def repeat(arr, n):\n",
    "    \"\"\"\n",
    "    Produce a virtual array which is n times bigger \n",
    "    than arr without extra memory usage\n",
    "    Parameters:\n",
    "    arr - nd array\n",
    "          Input array\n",
    "    n   - int\n",
    "          Size of repeated array\n",
    "    \"\"\"\n",
    "    return np.lib.stride_tricks.as_strided(arr,\n",
    "                                           shape=(n,) + arr.shape,\n",
    "                                           strides=(0,) + arr.strides)"
   ]
  },
  {
   "cell_type": "code",
   "execution_count": 73,
   "metadata": {},
   "outputs": [
    {
     "data": {
      "text/plain": [
       "array([[0.27505351, 0.06159749, 0.03617048, 0.33832092],\n",
       "       [0.27505351, 0.06159749, 0.03617048, 0.33832092],\n",
       "       [0.27505351, 0.06159749, 0.03617048, 0.33832092]])"
      ]
     },
     "execution_count": 73,
     "metadata": {},
     "output_type": "execute_result"
    }
   ],
   "source": [
    "repeat(np.random.random(4), 3)"
   ]
  },
  {
   "cell_type": "markdown",
   "metadata": {},
   "source": [
    "## Exercises\n",
    "\n",
    "Create a 2D array with 1 on the border and 0 inside.\n"
   ]
  },
  {
   "cell_type": "code",
   "execution_count": 74,
   "metadata": {},
   "outputs": [],
   "source": [
    "X = np.ones((5, 5))\n",
    "X[1:-1, 1:-1] = 0\n",
    "\n",
    "# Alternative way using np.zeros\n",
    "X = np.zeros((5, 5))\n",
    "X[:, [0, -1]] = 1\n",
    "X[[0, -1], 1:-1] = 1"
   ]
  },
  {
   "cell_type": "markdown",
   "metadata": {},
   "source": [
    "Normalize a 5 x 5 random matrix.\n"
   ]
  },
  {
   "cell_type": "code",
   "execution_count": 75,
   "metadata": {},
   "outputs": [],
   "source": [
    "X = np.random.random((5, 5))\n",
    "X_mean = np.mean(X)\n",
    "X_std = np.std(X)\n",
    "X_norm = (X - X_mean) / X_std"
   ]
  },
  {
   "cell_type": "markdown",
   "metadata": {},
   "source": [
    "Given a 1D array, negate all elements which are between 3 and 8 inclusive, in place.\n"
   ]
  },
  {
   "cell_type": "code",
   "execution_count": 76,
   "metadata": {},
   "outputs": [],
   "source": [
    "X = np.arange(11)\n",
    "mask = (2 < X) & (X < 9)\n",
    "X[mask] *= -1"
   ]
  },
  {
   "cell_type": "markdown",
   "metadata": {},
   "source": [
    "How to get the alternates dates corresponding to the month of July 2016?\n"
   ]
  },
  {
   "cell_type": "code",
   "execution_count": 77,
   "metadata": {},
   "outputs": [],
   "source": [
    "X = np.arange('2016-07', '2016-08', 2, dtype='datetime64[D]')"
   ]
  },
  {
   "cell_type": "markdown",
   "metadata": {},
   "source": [
    "Create a vector of size 10 with values ranging from 0 to 1, both excluded.\n"
   ]
  },
  {
   "cell_type": "code",
   "execution_count": 78,
   "metadata": {},
   "outputs": [],
   "source": [
    "X = np.linspace(0, 1, 12)[1:-1]\n",
    "\n",
    "# Alternative way\n",
    "X = np.linspace(0, 1, 11, endpoint=False)[1:]"
   ]
  },
  {
   "cell_type": "markdown",
   "metadata": {},
   "source": [
    "How to sort an array by the nth column?\n"
   ]
  },
  {
   "cell_type": "code",
   "execution_count": 79,
   "metadata": {},
   "outputs": [],
   "source": [
    "X = np.random.randint(0, 10, (4, 3))\n",
    "nth_col_sort_idx = X[:, -1].argsort()\n",
    "X_sort = X[nth_col_sort_idx]"
   ]
  },
  {
   "cell_type": "markdown",
   "metadata": {},
   "source": [
    "Find the nearest value from a given value in an array.\n"
   ]
  },
  {
   "cell_type": "code",
   "execution_count": 80,
   "metadata": {},
   "outputs": [],
   "source": [
    "X = np.random.rand(10)\n",
    "val = 0.75\n",
    "nearest = X[np.abs(X - val).argmin()]"
   ]
  },
  {
   "cell_type": "markdown",
   "metadata": {},
   "source": [
    "How to accumulate elements of a vector (X) to an array (F) based on an index list (I)?\n"
   ]
  },
  {
   "cell_type": "code",
   "execution_count": 81,
   "metadata": {},
   "outputs": [],
   "source": [
    "X = np.random.randint(10, size=5)\n",
    "I = np.random.randint(10, size=5)\n",
    "F = np.bincount(I, X)"
   ]
  },
  {
   "cell_type": "markdown",
   "metadata": {},
   "source": [
    "Considering a four dimensions array, how to get sum over the last two axis at once?\n"
   ]
  },
  {
   "cell_type": "code",
   "execution_count": 82,
   "metadata": {},
   "outputs": [],
   "source": [
    "X = np.random.random((4, 4, 4, 4))\n",
    "# Flatten the two dimensions into one\n",
    "new_shape = X.shape[:-2] + (-1,)\n",
    "Y = X.reshape(new_shape).sum(axis=-1)\n",
    "\n",
    "# Alternative way\n",
    "# X = np.random.random((4, 4, 4, 4))\n",
    "# Tuple of axis (supported for numpy 1.7.0 onwards)\n",
    "# Y = X.sum(axis=(-2, -1))"
   ]
  },
  {
   "cell_type": "markdown",
   "metadata": {},
   "source": [
    "Create a function to produce a sliding window view of a 1D array.\n"
   ]
  },
  {
   "cell_type": "code",
   "execution_count": 83,
   "metadata": {},
   "outputs": [],
   "source": [
    "def sliding_window(arr, size=2):\n",
    "    \"\"\"\n",
    "    Produce an array of sliding window views of arr\n",
    "    Parameters:\n",
    "    arr  - nd array\n",
    "           Input array\n",
    "    size - int, optional\n",
    "           Size of sliding window\n",
    "    \"\"\"\n",
    "    N = arr.shape[0]\n",
    "    s = arr.strides[0]\n",
    "    return np.lib.stride_tricks.as_strided(arr,\n",
    "                                           shape=(N - size + 1, size),\n",
    "                                           strides=(s, s))"
   ]
  },
  {
   "cell_type": "markdown",
   "metadata": {},
   "source": [
    "## Future Resources\n",
    "\n",
    "So far, we’ve covered many of the basics of using NumPy for performing scientific computing. But there’s still a lot of material that you can learn from. To learn more about Numpy, I would definitely recommend the following:\n",
    "\n",
    "- [Pandas Data Science Handbook](https://jakevdp.github.io/PythonDataScienceHandbook/index.html) covers much more about Numpy. But it also has other libraries such as Pandas, Matplotlib very well explained with code walkthrough.\n",
    "- [Advanced NumPy - SciPy 2019](https://www.youtube.com/watch?v=cYugp9IN1-Q) covers a lot of advanced material that we have not touched on in this post.\n",
    "- [Scipy Lecture Notes](https://scipy-lectures.org/) is a good resource for learning libraries related to scientific computing such as NumPy, SciPy in Python\n",
    "- [100 NumPy Exercises](https://github.com/rougier/numpy-100) is a good place to test your knowledge.\n"
   ]
  },
  {
   "cell_type": "markdown",
   "metadata": {},
   "source": [
    "## References\n",
    "\n",
    "- [Numpy](https://numpy.org/doc/stable/index.html)\n",
    "- [Introduction to Numerical Computing with NumPy - SciPy 2019](https://www.youtube.com/watch?v=ZB7BZMhfPgk)\n",
    "- [Advanced NumPy - SciPy 2019](https://www.youtube.com/watch?v=cYugp9IN1-Q)\n",
    "- [Python Data Science Handbook](https://jakevdp.github.io/PythonDataScienceHandbook/index.html)\n",
    "- [100 NumPy Exercises](https://github.com/rougier/numpy-100)\n"
   ]
  }
 ],
 "metadata": {
  "kernelspec": {
   "display_name": "Python 3",
   "language": "python",
   "name": "python3"
  },
  "language_info": {
   "codemirror_mode": {
    "name": "ipython",
    "version": 3
   },
   "file_extension": ".py",
   "mimetype": "text/x-python",
   "name": "python",
   "nbconvert_exporter": "python",
   "pygments_lexer": "ipython3",
   "version": "3.8.5"
  }
 },
 "nbformat": 4,
 "nbformat_minor": 4
}